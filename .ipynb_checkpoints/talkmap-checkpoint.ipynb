{
 "cells": [
  {
   "cell_type": "markdown",
   "metadata": {},
   "source": [
    "# Leaflet cluster map of talk locations\n",
    "\n",
    "Run this from the _talks/ directory, which contains .md files of all your talks. This scrapes the location YAML field from each .md file, geolocates it with geopy/Nominatim, and uses the getorg library to output data, HTML, and Javascript for a standalone cluster map."
   ]
  },
  {
   "cell_type": "code",
   "execution_count": 1,
   "metadata": {},
   "outputs": [
    {
     "name": "stdout",
     "output_type": "stream",
     "text": [
      "Requirement already up-to-date: getorg in /Users/garyhettinger/opt/anaconda3/lib/python3.8/site-packages (0.3.1)\n",
      "Requirement already satisfied, skipping upgrade: pygithub in /Users/garyhettinger/opt/anaconda3/lib/python3.8/site-packages (from getorg) (2.3.0)\n",
      "Requirement already satisfied, skipping upgrade: retrying in /Users/garyhettinger/opt/anaconda3/lib/python3.8/site-packages (from getorg) (1.3.4)\n",
      "Requirement already satisfied, skipping upgrade: geopy in /Users/garyhettinger/opt/anaconda3/lib/python3.8/site-packages (from getorg) (2.4.1)\n",
      "Requirement already satisfied, skipping upgrade: pynacl>=1.4.0 in /Users/garyhettinger/opt/anaconda3/lib/python3.8/site-packages (from pygithub->getorg) (1.5.0)\n",
      "Requirement already satisfied, skipping upgrade: Deprecated in /Users/garyhettinger/opt/anaconda3/lib/python3.8/site-packages (from pygithub->getorg) (1.2.14)\n",
      "Requirement already satisfied, skipping upgrade: urllib3>=1.26.0 in /Users/garyhettinger/opt/anaconda3/lib/python3.8/site-packages (from pygithub->getorg) (2.2.2)\n",
      "Requirement already satisfied, skipping upgrade: pyjwt[crypto]>=2.4.0 in /Users/garyhettinger/opt/anaconda3/lib/python3.8/site-packages (from pygithub->getorg) (2.8.0)\n",
      "Requirement already satisfied, skipping upgrade: requests>=2.14.0 in /Users/garyhettinger/opt/anaconda3/lib/python3.8/site-packages (from pygithub->getorg) (2.24.0)\n",
      "Requirement already satisfied, skipping upgrade: typing-extensions>=4.0.0 in /Users/garyhettinger/opt/anaconda3/lib/python3.8/site-packages (from pygithub->getorg) (4.12.2)\n",
      "Requirement already satisfied, skipping upgrade: six>=1.7.0 in /Users/garyhettinger/opt/anaconda3/lib/python3.8/site-packages (from retrying->getorg) (1.15.0)\n",
      "Requirement already satisfied, skipping upgrade: geographiclib<3,>=1.52 in /Users/garyhettinger/opt/anaconda3/lib/python3.8/site-packages (from geopy->getorg) (2.0)\n",
      "Requirement already satisfied, skipping upgrade: cffi>=1.4.1 in /Users/garyhettinger/opt/anaconda3/lib/python3.8/site-packages (from pynacl>=1.4.0->pygithub->getorg) (1.14.3)\n",
      "Requirement already satisfied, skipping upgrade: wrapt<2,>=1.10 in /Users/garyhettinger/opt/anaconda3/lib/python3.8/site-packages (from Deprecated->pygithub->getorg) (1.11.2)\n",
      "Requirement already satisfied, skipping upgrade: cryptography>=3.4.0; extra == \"crypto\" in /Users/garyhettinger/opt/anaconda3/lib/python3.8/site-packages (from pyjwt[crypto]>=2.4.0->pygithub->getorg) (42.0.8)\n",
      "Requirement already satisfied, skipping upgrade: certifi>=2017.4.17 in /Users/garyhettinger/opt/anaconda3/lib/python3.8/site-packages (from requests>=2.14.0->pygithub->getorg) (2020.6.20)\n",
      "Requirement already satisfied, skipping upgrade: idna<3,>=2.5 in /Users/garyhettinger/opt/anaconda3/lib/python3.8/site-packages (from requests>=2.14.0->pygithub->getorg) (2.10)\n",
      "Requirement already satisfied, skipping upgrade: chardet<4,>=3.0.2 in /Users/garyhettinger/opt/anaconda3/lib/python3.8/site-packages (from requests>=2.14.0->pygithub->getorg) (3.0.4)\n",
      "Requirement already satisfied, skipping upgrade: pycparser in /Users/garyhettinger/opt/anaconda3/lib/python3.8/site-packages (from cffi>=1.4.1->pynacl>=1.4.0->pygithub->getorg) (2.20)\n",
      "Iywidgets and ipyleaflet support disabled. You must be in a Jupyter notebook to use this feature.\n",
      "Error raised:\n",
      "No module named 'ipyleaflet'\n",
      "Check that you have enabled ipyleaflet in Jupyter with:\n",
      "    jupyter nbextension enable --py ipyleaflet\n"
     ]
    },
    {
     "name": "stderr",
     "output_type": "stream",
     "text": [
      "/Users/garyhettinger/opt/anaconda3/lib/python3.8/site-packages/requests/__init__.py:89: RequestsDependencyWarning: urllib3 (2.2.2) or chardet (3.0.4) doesn't match a supported version!\n",
      "  warnings.warn(\"urllib3 ({}) or chardet ({}) doesn't match a supported \"\n"
     ]
    }
   ],
   "source": [
    "!pip install getorg --upgrade\n",
    "import glob\n",
    "import getorg\n",
    "from geopy import Nominatim"
   ]
  },
  {
   "cell_type": "code",
   "execution_count": 2,
   "metadata": {},
   "outputs": [],
   "source": [
    "g = glob.glob(\"*.md\")"
   ]
  },
  {
   "cell_type": "code",
   "execution_count": 3,
   "metadata": {
    "collapsed": true
   },
   "outputs": [],
   "source": [
    "geocoder = Nominatim()\n",
    "location_dict = {}\n",
    "location = \"\"\n",
    "permalink = \"\"\n",
    "title = \"\""
   ]
  },
  {
   "cell_type": "code",
   "execution_count": 4,
   "metadata": {},
   "outputs": [
    {
     "name": "stdout",
     "output_type": "stream",
     "text": [
      "Berkeley CA, USA \n",
      " Berkeley, Alameda County, California, United States of America\n",
      "Los Angeles, CA \n",
      " LA, Los Angeles County, California, United States of America\n",
      "London, UK \n",
      " London, Greater London, England, UK\n",
      "San Francisco, California \n",
      " SF, California, United States of America\n"
     ]
    }
   ],
   "source": [
    "\n",
    "for file in g:\n",
    "    with open(file, 'r') as f:\n",
    "        lines = f.read()\n",
    "        if lines.find('location: \"') > 1:\n",
    "            loc_start = lines.find('location: \"') + 11\n",
    "            lines_trim = lines[loc_start:]\n",
    "            loc_end = lines_trim.find('\"')\n",
    "            location = lines_trim[:loc_end]\n",
    "                            \n",
    "           \n",
    "        location_dict[location] = geocoder.geocode(location)\n",
    "        print(location, \"\\n\", location_dict[location])\n"
   ]
  },
  {
   "cell_type": "code",
   "execution_count": 5,
   "metadata": {},
   "outputs": [
    {
     "data": {
      "text/plain": [
       "'Written map to ../talkmap/'"
      ]
     },
     "execution_count": 5,
     "metadata": {},
     "output_type": "execute_result"
    }
   ],
   "source": [
    "m = getorg.orgmap.create_map_obj()\n",
    "getorg.orgmap.output_html_cluster_map(location_dict, folder_name=\"../talkmap\", hashed_usernames=False)"
   ]
  },
  {
   "cell_type": "code",
   "execution_count": null,
   "metadata": {
    "collapsed": true
   },
   "outputs": [],
   "source": []
  }
 ],
 "metadata": {
  "anaconda-cloud": {},
  "kernelspec": {
   "display_name": "Python 3",
   "language": "python",
   "name": "python3"
  },
  "language_info": {
   "codemirror_mode": {
    "name": "ipython",
    "version": 3
   },
   "file_extension": ".py",
   "mimetype": "text/x-python",
   "name": "python",
   "nbconvert_exporter": "python",
   "pygments_lexer": "ipython3",
   "version": "3.8.5"
  }
 },
 "nbformat": 4,
 "nbformat_minor": 1
}
